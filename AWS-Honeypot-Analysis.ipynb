{
 "cells": [
  {
   "cell_type": "code",
   "execution_count": null,
   "id": "8cd8cebe",
   "metadata": {},
   "outputs": [],
   "source": [
    "import numpy as np\n",
    "import pandas as pd\n",
    "import seaborn as sns\n",
    "import matplotlib.pyplot as plt"
   ]
  },
  {
   "cell_type": "code",
   "execution_count": null,
   "id": "0fc37b01",
   "metadata": {},
   "outputs": [],
   "source": [
    "df = pd.read_csv('AWS_Honeypot_marx-geo.csv')"
   ]
  },
  {
   "cell_type": "code",
   "execution_count": null,
   "id": "62e75e08",
   "metadata": {},
   "outputs": [],
   "source": [
    "df.head()"
   ]
  },
  {
   "cell_type": "code",
   "execution_count": null,
   "id": "1e9c860c",
   "metadata": {},
   "outputs": [],
   "source": [
    "df.shape"
   ]
  },
  {
   "cell_type": "code",
   "execution_count": null,
   "id": "741a4370",
   "metadata": {},
   "outputs": [],
   "source": [
    "df.info()"
   ]
  },
  {
   "cell_type": "code",
   "execution_count": null,
   "id": "63512f12",
   "metadata": {},
   "outputs": [],
   "source": [
    "df.drop(\"Unnamed: 15\", axis=1, inplace=True)"
   ]
  },
  {
   "cell_type": "code",
   "execution_count": null,
   "id": "6b8e0b18",
   "metadata": {},
   "outputs": [],
   "source": [
    "def find_day(date):\n",
    "    return date.strftime(\"%A\")"
   ]
  },
  {
   "cell_type": "code",
   "execution_count": null,
   "id": "46ad8889",
   "metadata": {},
   "outputs": [],
   "source": [
    "def find_month(date):\n",
    "    return date.strftime(\"%B\")"
   ]
  },
  {
   "cell_type": "code",
   "execution_count": null,
   "id": "e307075b",
   "metadata": {},
   "outputs": [],
   "source": [
    "def find_year(date):\n",
    "    return date.year"
   ]
  },
  {
   "cell_type": "code",
   "execution_count": null,
   "id": "d13ede90",
   "metadata": {},
   "outputs": [],
   "source": [
    "def find_hour(date):\n",
    "    return date.hour"
   ]
  },
  {
   "cell_type": "code",
   "execution_count": null,
   "id": "fde1a2cb",
   "metadata": {},
   "outputs": [],
   "source": [
    "def find_minute(date):\n",
    "    return date.minute"
   ]
  },
  {
   "cell_type": "code",
   "execution_count": null,
   "id": "7648c6b4",
   "metadata": {},
   "outputs": [],
   "source": [
    "df[\"datetime\"] = df[\"datetime\"].apply(pd.to_datetime)"
   ]
  },
  {
   "cell_type": "code",
   "execution_count": null,
   "id": "a46738c2",
   "metadata": {},
   "outputs": [],
   "source": [
    "df[\"day\"] = df[\"datetime\"].apply(find_day)\n",
    "df[\"month\"] = df[\"datetime\"].apply(find_month)\n",
    "df[\"year\"] = df[\"datetime\"].apply(find_year)\n",
    "df[\"hour\"] = df[\"datetime\"].apply(find_hour)\n",
    "df[\"minute\"] = df[\"datetime\"].apply(find_minute)"
   ]
  },
  {
   "cell_type": "code",
   "execution_count": null,
   "id": "50148d68",
   "metadata": {},
   "outputs": [],
   "source": [
    "df.head()"
   ]
  },
  {
   "cell_type": "code",
   "execution_count": null,
   "id": "3480c85e",
   "metadata": {},
   "outputs": [],
   "source": [
    "df[\"month\"].value_counts().plot(kind=\"bar\").set_title(\"Cyberattacks per month\")"
   ]
  },
  {
   "cell_type": "code",
   "execution_count": null,
   "id": "a98e2eca",
   "metadata": {},
   "outputs": [],
   "source": [
    "df[\"month\"].value_counts().plot(kind=\"pie\", autopct=\"%.2f%%\").set_title(\"Cyberattacks per month\")"
   ]
  },
  {
   "cell_type": "code",
   "execution_count": null,
   "id": "dbc581e9",
   "metadata": {},
   "outputs": [],
   "source": [
    "df[\"day\"].value_counts().plot(kind=\"bar\").set_title(\"Cyberattacks per day\")"
   ]
  },
  {
   "cell_type": "code",
   "execution_count": null,
   "id": "8cdd989f",
   "metadata": {},
   "outputs": [],
   "source": [
    "df[\"day\"].value_counts().plot(kind=\"pie\", autopct=\"%.2f%%\").set_title(\"Cyberattacks per day\")"
   ]
  },
  {
   "cell_type": "code",
   "execution_count": null,
   "id": "68dfbbb0",
   "metadata": {},
   "outputs": [],
   "source": [
    "df[\"hour\"].value_counts().plot(kind=\"bar\").set_title(\"Cyberattacks per hour\") "
   ]
  },
  {
   "cell_type": "code",
   "execution_count": null,
   "id": "81e0a933",
   "metadata": {},
   "outputs": [],
   "source": [
    "df[\"hour\"].value_counts().plot(kind=\"pie\", autopct=\"%.2f%%\").set_title(\"Cyberattacks per hour\") "
   ]
  },
  {
   "cell_type": "code",
   "execution_count": null,
   "id": "f3cdbb3c",
   "metadata": {},
   "outputs": [],
   "source": [
    "df[\"host\"].value_counts().plot(kind=\"bar\").set_title(\"Cyberattacks per host\")"
   ]
  },
  {
   "cell_type": "code",
   "execution_count": null,
   "id": "5da00cf4",
   "metadata": {},
   "outputs": [],
   "source": [
    "df[\"host\"].value_counts().plot(kind=\"pie\", autopct=\"%.2f%%\").set_title(\"Cyberattacks per host\")"
   ]
  },
  {
   "cell_type": "code",
   "execution_count": null,
   "id": "ff0b9994",
   "metadata": {},
   "outputs": [],
   "source": [
    "df[\"country\"].value_counts().head(10).plot(kind=\"bar\").set_title(\"TOP 10 - Cyberattacks per country\")"
   ]
  },
  {
   "cell_type": "code",
   "execution_count": null,
   "id": "e0597c41",
   "metadata": {},
   "outputs": [],
   "source": [
    "df[\"country\"].value_counts().head(10).plot(kind=\"pie\", autopct=\"%.2f%%\").set_title(\"TOP 10 - Cyberattacks per country\")"
   ]
  },
  {
   "cell_type": "code",
   "execution_count": null,
   "id": "72e70e49",
   "metadata": {},
   "outputs": [],
   "source": [
    "df[\"srcstr\"].value_counts().head(10).plot(kind=\"bar\").set_title(\"TOP 10 - Attack Origins\")"
   ]
  },
  {
   "cell_type": "code",
   "execution_count": null,
   "id": "b475140b",
   "metadata": {},
   "outputs": [],
   "source": [
    "df[\"srcstr\"].value_counts().head(10).plot(kind=\"pie\", autopct=\"%.2f%%\").set_title(\"TOP 10 - Attack Origins\")"
   ]
  },
  {
   "cell_type": "code",
   "execution_count": null,
   "id": "041f1f1c",
   "metadata": {},
   "outputs": [],
   "source": [
    "plt.figure()\n",
    "sns.histplot(df[\"spt\"], kde=True)\n",
    "spt_mean = df[\"spt\"].mean()\n",
    "spt_median = df[\"spt\"].median()\n",
    "spt_mode = df[\"spt\"].mode().values[0]\n",
    "plt.axvline(spt_mean, color=\"b\", linestyle=\"--\")\n",
    "plt.axvline(spt_median, color=\"g\", linestyle=\"--\")\n",
    "plt.axvline(spt_mode, color=\"r\", linestyle=\"--\")\n",
    "plt.legend([\"kde\", \"mean\", \"median\", \"mode\"])\n",
    "plt.show()"
   ]
  },
  {
   "cell_type": "code",
   "execution_count": null,
   "id": "3313ebc7",
   "metadata": {},
   "outputs": [],
   "source": [
    "plt.figure()\n",
    "sns.histplot(df[\"dpt\"], kde=True)\n",
    "dpt_mean = df[\"dpt\"].mean()\n",
    "dpt_median = df[\"dpt\"].median()\n",
    "dpt_mode = df[\"dpt\"].mode().values[0]\n",
    "plt.axvline(dpt_mean, color=\"b\", linestyle=\"--\")\n",
    "plt.axvline(dpt_median, color=\"g\", linestyle=\"--\")\n",
    "plt.axvline(dpt_mode, color=\"r\", linestyle=\"--\")\n",
    "plt.legend([\"kde\", \"mean\", \"median\", \"mode\"])\n",
    "plt.show()"
   ]
  },
  {
   "cell_type": "code",
   "execution_count": null,
   "id": "2254bada",
   "metadata": {},
   "outputs": [],
   "source": [
    "from folium import Map\n",
    "from folium.plugins import HeatMap\n",
    "\n",
    "coord = df[['latitude', 'longitude']]\n",
    "coord.latitude.fillna(0, inplace = True)\n",
    "coord.longitude.fillna(0, inplace = True) \n",
    "world_map = Map(location=[0,0],zoom_start=2)\n",
    "HeatMap(data=attack, radius=16).add_to(world_map)\n",
    "print(\"CYBERTATTACKS HEATMAP\")\n",
    "world_map"
   ]
  },
  {
   "cell_type": "code",
   "execution_count": null,
   "id": "48b53e89",
   "metadata": {},
   "outputs": [],
   "source": []
  }
 ],
 "metadata": {
  "kernelspec": {
   "display_name": "Python 3 (ipykernel)",
   "language": "python",
   "name": "python3"
  },
  "language_info": {
   "codemirror_mode": {
    "name": "ipython",
    "version": 3
   },
   "file_extension": ".py",
   "mimetype": "text/x-python",
   "name": "python",
   "nbconvert_exporter": "python",
   "pygments_lexer": "ipython3",
   "version": "3.10.12"
  }
 },
 "nbformat": 4,
 "nbformat_minor": 5
}
